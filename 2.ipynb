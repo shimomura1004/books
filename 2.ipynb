{
 "cells": [
  {
   "cell_type": "markdown",
   "metadata": {},
   "source": [
    "# 2. ARMA 過程\n",
    "## 2.1 ARMA 過程の性質\n",
    "時系列データの基本となる自己回帰移動平均(ARMA: auto regressive moving average)モデルについて。ARMA 過程は AR 過程と MA 過程を組み合わせたモデル。\n",
    "\n",
    "例えば1次の自己相関を持つ時系列データをモデル化することを考える。ひとつの方法は $y_t$ と $y_{t-1}$ のモデルに共通の成分を含ませるというもの。具体的には、\n",
    "$$y_t = a + b$$\n",
    "$$y_{t-1} = c + b$$\n",
    "というモデル化を行えば、共通の $b$ によって $y_t$ と $y_{t-1}$ が相関を持つことをモデル化できる。これが MA モデル。\n",
    "\n",
    "もうひとつの方法はもっと直接的で、 $y_t$ のモデルに $y_{t-1}$ を含めるもの。具体的には以下。\n",
    "$$y_t = ay_{t-1} + b$$\n",
    "これが AR モデルである。\n",
    "\n",
    "### 用語：\n"
   ]
  }
 ],
 "metadata": {
  "kernelspec": {
   "display_name": "R",
   "language": "R",
   "name": "ir"
  },
  "language_info": {
   "codemirror_mode": "r",
   "file_extension": ".r",
   "mimetype": "text/x-r-source",
   "name": "R",
   "pygments_lexer": "r",
   "version": "3.3.2"
  }
 },
 "nbformat": 4,
 "nbformat_minor": 2
}
