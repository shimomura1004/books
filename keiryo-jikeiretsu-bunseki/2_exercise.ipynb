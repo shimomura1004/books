{
 "cells": [
  {
   "cell_type": "markdown",
   "metadata": {},
   "source": [
    "## 2章 問題\n",
    "### 2.1\n",
    "\n",
    "### 2.2\n",
    "\n",
    "### 2.3\n",
    "\n",
    "### 2.4\n",
    "#### (1)\n",
    "MA 過程は常に定常である。AR 過程の部分の定常条件は、AR 特性方程式の解 $z = \\phi_1^{-1}$ の絶対値が 1 より大きいことである。すなわち $|\\phi_1| < 1$ である。\n",
    "\n",
    "#### (2)\n",
    "MA 過程の特性方程式の解の絶対値が 1 より大きい時反転可能である。つまり $|z| = |\\theta_1^{-1}| > 1$ なので $|\\theta_1| < 1$\n",
    "\n",
    "#### (3)\n",
    "ARMA(1,1) 過程の期待値 $\\mu$ は $\\frac{c}{1-\\phi_1}$\n",
    "\n",
    "#### (4)\n",
    "$\\gamma_0 = Var(y_t)$ だから\n",
    "- $\\gamma_0$\n",
    "- $= Var(y_t)$\n",
    "- $= Var(\\phi y_{t-1} + \\epsilon_t + \\theta_1 \\epsilon_{t-1})$\n",
    "- $= \\phi^2 Var(y_{t-1}) + Var(\\epsilon_t) + \\theta_1^2 Var(\\epsilon_{t-1}) + 2Cov(\\phi y_{t-1}, \\epsilon_t) + 2Cov(\\phi y_{t-1}, \\theta_1 \\epsilon_{t-1}) + 2Cov(\\epsilon_t, \\theta_1 \\epsilon_{t-1})$\n",
    "\n",
    "である。\n",
    "\n",
    "また、$Var(\\epsilon_t) = \\sigma^2$ 、$Var(\\epsilon_{t-1}) = \\sigma^2$ である。また $\\epsilon_t$ と $\\epsilon_{t-1}$ は独立なので $Cov(\\epsilon_t,\\epsilon_{t-1}) = 0$ である。\n",
    "$y_{t-1}$ と $\\epsilon_t$ も独立である。($y_{t-1}$ は $\\epsilon_{t-1}$ に影響されるけど)\n",
    "\n",
    "問題文から $Cov(y_{t-1}, \\epsilon_{t-1}) = \\sigma^2$ である。(なんで？)\n",
    "\n",
    "これらから、\n",
    "- $\\phi^2 Var(y_{t-1}) + Var(\\epsilon_t) + \\theta_1^2 Var(\\epsilon_{t-1}) + 2Cov(\\phi y_{t-1}, \\epsilon_t) + 2Cov(\\phi y_{t-1}, \\theta_1 \\epsilon_{t-1}) + 2Cov(\\epsilon_t, \\theta_1 \\epsilon_{t-1})$\n",
    "- $= \\phi_1^2 \\gamma_0 + \\sigma^2 + \\theta_1^2 \\sigma^2 + 2\\phi_1\\theta_1\\sigma^2$\n",
    "\n",
    "よって、$\\gamma_0 = \\phi_1^2 \\gamma_0 + \\sigma^2 + \\theta_1^2 \\sigma^2 + 2\\phi_1\\theta_1\\sigma^2$ を整理すれば\n",
    "$$\\gamma_0 = \\frac{1 + \\theta_1^2 + 2\\phi_1\\theta_1}{1 - \\phi_1^2}\\sigma^2$$\n",
    "\n",
    "### 2.5\n",
    "\n",
    "### 2.6\n"
   ]
  }
 ],
 "metadata": {
  "kernelspec": {
   "display_name": "R",
   "language": "R",
   "name": "ir"
  },
  "language_info": {
   "codemirror_mode": "r",
   "file_extension": ".r",
   "mimetype": "text/x-r-source",
   "name": "R",
   "pygments_lexer": "r",
   "version": "3.3.2"
  }
 },
 "nbformat": 4,
 "nbformat_minor": 2
}
